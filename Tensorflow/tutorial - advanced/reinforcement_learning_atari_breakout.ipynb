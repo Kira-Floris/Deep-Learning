{
 "cells": [
  {
   "cell_type": "code",
   "execution_count": 3,
   "metadata": {},
   "outputs": [],
   "source": [
    "from baselines.common.atari_wrappers import make_atari, wrap_deepmind\n",
    "import numpy as np\n",
    "import tensorflow as tf\n",
    "from tensorflow import keras\n",
    "from tensorflow.keras import layers"
   ]
  },
  {
   "cell_type": "code",
   "execution_count": 4,
   "metadata": {},
   "outputs": [
    {
     "ename": "Error",
     "evalue": "We're Unable to find the game \"Breakout\". Note: Gym no longer distributes ROMs. If you own a license to use the necessary ROMs for research purposes you can download them via `pip install gym[accept-rom-license]`. Otherwise, you should try importing \"Breakout\" via the command `ale-import-roms`. If you believe this is a mistake perhaps your copy of \"Breakout\" is unsupported. To check if this is the case try providing the environment variable `PYTHONWARNINGS=default::ImportWarning:ale_py.roms`. For more information see: https://github.com/mgbellemare/Arcade-Learning-Environment#rom-management",
     "output_type": "error",
     "traceback": [
      "\u001b[1;31m---------------------------------------------------------------------------\u001b[0m",
      "\u001b[1;31mError\u001b[0m                                     Traceback (most recent call last)",
      "\u001b[1;32mc:\\Users\\robot\\Desktop\\Programming\\Deep Learning\\Tensorflow\\tutorial - advanced\\reinforcement_learning_atari_breakout.ipynb Cell 2\u001b[0m line \u001b[0;36m1\n\u001b[0;32m      <a href='vscode-notebook-cell:/c%3A/Users/robot/Desktop/Programming/Deep%20Learning/Tensorflow/tutorial%20-%20advanced/reinforcement_learning_atari_breakout.ipynb#W1sZmlsZQ%3D%3D?line=8'>9</a>\u001b[0m batch_size \u001b[39m=\u001b[39m \u001b[39m32\u001b[39m\n\u001b[0;32m     <a href='vscode-notebook-cell:/c%3A/Users/robot/Desktop/Programming/Deep%20Learning/Tensorflow/tutorial%20-%20advanced/reinforcement_learning_atari_breakout.ipynb#W1sZmlsZQ%3D%3D?line=9'>10</a>\u001b[0m max_steps_per_episode \u001b[39m=\u001b[39m \u001b[39m10000\u001b[39m\n\u001b[1;32m---> <a href='vscode-notebook-cell:/c%3A/Users/robot/Desktop/Programming/Deep%20Learning/Tensorflow/tutorial%20-%20advanced/reinforcement_learning_atari_breakout.ipynb#W1sZmlsZQ%3D%3D?line=11'>12</a>\u001b[0m env \u001b[39m=\u001b[39m make_atari(\u001b[39m\"\u001b[39;49m\u001b[39mBreakoutNoFrameskip-v4\u001b[39;49m\u001b[39m\"\u001b[39;49m)\n\u001b[0;32m     <a href='vscode-notebook-cell:/c%3A/Users/robot/Desktop/Programming/Deep%20Learning/Tensorflow/tutorial%20-%20advanced/reinforcement_learning_atari_breakout.ipynb#W1sZmlsZQ%3D%3D?line=12'>13</a>\u001b[0m env \u001b[39m=\u001b[39m wrap_deepmind(env, frame_stack\u001b[39m=\u001b[39m\u001b[39mTrue\u001b[39;00m, scale\u001b[39m=\u001b[39m\u001b[39mTrue\u001b[39;00m)\n\u001b[0;32m     <a href='vscode-notebook-cell:/c%3A/Users/robot/Desktop/Programming/Deep%20Learning/Tensorflow/tutorial%20-%20advanced/reinforcement_learning_atari_breakout.ipynb#W1sZmlsZQ%3D%3D?line=13'>14</a>\u001b[0m env\u001b[39m.\u001b[39mseed(seed)\n",
      "File \u001b[1;32m~\\AppData\\Roaming\\Python\\Python39\\site-packages\\baselines\\common\\atari_wrappers.py:217\u001b[0m, in \u001b[0;36mmake_atari\u001b[1;34m(env_id)\u001b[0m\n\u001b[0;32m    216\u001b[0m \u001b[39mdef\u001b[39;00m \u001b[39mmake_atari\u001b[39m(env_id):\n\u001b[1;32m--> 217\u001b[0m     env \u001b[39m=\u001b[39m gym\u001b[39m.\u001b[39;49mmake(env_id)\n\u001b[0;32m    218\u001b[0m     \u001b[39massert\u001b[39;00m \u001b[39m'\u001b[39m\u001b[39mNoFrameskip\u001b[39m\u001b[39m'\u001b[39m \u001b[39min\u001b[39;00m env\u001b[39m.\u001b[39mspec\u001b[39m.\u001b[39mid\n\u001b[0;32m    219\u001b[0m     env \u001b[39m=\u001b[39m NoopResetEnv(env, noop_max\u001b[39m=\u001b[39m\u001b[39m30\u001b[39m)\n",
      "File \u001b[1;32m~\\AppData\\Roaming\\Python\\Python39\\site-packages\\gym\\envs\\registration.py:640\u001b[0m, in \u001b[0;36mmake\u001b[1;34m(id, max_episode_steps, autoreset, apply_api_compatibility, disable_env_checker, **kwargs)\u001b[0m\n\u001b[0;32m    637\u001b[0m     render_mode \u001b[39m=\u001b[39m \u001b[39mNone\u001b[39;00m\n\u001b[0;32m    639\u001b[0m \u001b[39mtry\u001b[39;00m:\n\u001b[1;32m--> 640\u001b[0m     env \u001b[39m=\u001b[39m env_creator(\u001b[39m*\u001b[39m\u001b[39m*\u001b[39m_kwargs)\n\u001b[0;32m    641\u001b[0m \u001b[39mexcept\u001b[39;00m \u001b[39mTypeError\u001b[39;00m \u001b[39mas\u001b[39;00m e:\n\u001b[0;32m    642\u001b[0m     \u001b[39mif\u001b[39;00m (\n\u001b[0;32m    643\u001b[0m         \u001b[39mstr\u001b[39m(e)\u001b[39m.\u001b[39mfind(\u001b[39m\"\u001b[39m\u001b[39mgot an unexpected keyword argument \u001b[39m\u001b[39m'\u001b[39m\u001b[39mrender_mode\u001b[39m\u001b[39m'\u001b[39m\u001b[39m\"\u001b[39m) \u001b[39m>\u001b[39m\u001b[39m=\u001b[39m \u001b[39m0\u001b[39m\n\u001b[0;32m    644\u001b[0m         \u001b[39mand\u001b[39;00m apply_human_rendering\n\u001b[0;32m    645\u001b[0m     ):\n",
      "File \u001b[1;32m~\\AppData\\Roaming\\Python\\Python39\\site-packages\\ale_py\\env\\gym.py:155\u001b[0m, in \u001b[0;36mAtariEnv.__init__\u001b[1;34m(self, game, mode, difficulty, obs_type, frameskip, repeat_action_probability, full_action_space, max_num_frames_per_episode, render_mode)\u001b[0m\n\u001b[0;32m    152\u001b[0m     \u001b[39mself\u001b[39m\u001b[39m.\u001b[39male\u001b[39m.\u001b[39msetBool(\u001b[39m\"\u001b[39m\u001b[39msound\u001b[39m\u001b[39m\"\u001b[39m, \u001b[39mTrue\u001b[39;00m)\n\u001b[0;32m    154\u001b[0m \u001b[39m# Seed + Load\u001b[39;00m\n\u001b[1;32m--> 155\u001b[0m \u001b[39mself\u001b[39;49m\u001b[39m.\u001b[39;49mseed()\n\u001b[0;32m    157\u001b[0m \u001b[39mself\u001b[39m\u001b[39m.\u001b[39m_action_set \u001b[39m=\u001b[39m (\n\u001b[0;32m    158\u001b[0m     \u001b[39mself\u001b[39m\u001b[39m.\u001b[39male\u001b[39m.\u001b[39mgetLegalActionSet()\n\u001b[0;32m    159\u001b[0m     \u001b[39mif\u001b[39;00m full_action_space\n\u001b[0;32m    160\u001b[0m     \u001b[39melse\u001b[39;00m \u001b[39mself\u001b[39m\u001b[39m.\u001b[39male\u001b[39m.\u001b[39mgetMinimalActionSet()\n\u001b[0;32m    161\u001b[0m )\n\u001b[0;32m    162\u001b[0m \u001b[39mself\u001b[39m\u001b[39m.\u001b[39m_action_space \u001b[39m=\u001b[39m spaces\u001b[39m.\u001b[39mDiscrete(\u001b[39mlen\u001b[39m(\u001b[39mself\u001b[39m\u001b[39m.\u001b[39m_action_set))\n",
      "File \u001b[1;32m~\\AppData\\Roaming\\Python\\Python39\\site-packages\\ale_py\\env\\gym.py:206\u001b[0m, in \u001b[0;36mAtariEnv.seed\u001b[1;34m(self, seed)\u001b[0m\n\u001b[0;32m    203\u001b[0m \u001b[39mself\u001b[39m\u001b[39m.\u001b[39male\u001b[39m.\u001b[39msetInt(\u001b[39m\"\u001b[39m\u001b[39mrandom_seed\u001b[39m\u001b[39m\"\u001b[39m, seed2\u001b[39m.\u001b[39mastype(np\u001b[39m.\u001b[39mint32))\n\u001b[0;32m    205\u001b[0m \u001b[39mif\u001b[39;00m \u001b[39mnot\u001b[39;00m \u001b[39mhasattr\u001b[39m(roms, \u001b[39mself\u001b[39m\u001b[39m.\u001b[39m_game):\n\u001b[1;32m--> 206\u001b[0m     \u001b[39mraise\u001b[39;00m error\u001b[39m.\u001b[39mError(\n\u001b[0;32m    207\u001b[0m         \u001b[39mf\u001b[39m\u001b[39m'\u001b[39m\u001b[39mWe\u001b[39m\u001b[39m\\'\u001b[39;00m\u001b[39mre Unable to find the game \u001b[39m\u001b[39m\"\u001b[39m\u001b[39m{\u001b[39;00m\u001b[39mself\u001b[39m\u001b[39m.\u001b[39m_game\u001b[39m}\u001b[39;00m\u001b[39m\"\u001b[39m\u001b[39m. Note: Gym no longer distributes ROMs. \u001b[39m\u001b[39m'\u001b[39m\n\u001b[0;32m    208\u001b[0m         \u001b[39mf\u001b[39m\u001b[39m\"\u001b[39m\u001b[39mIf you own a license to use the necessary ROMs for research purposes you can download them \u001b[39m\u001b[39m\"\u001b[39m\n\u001b[0;32m    209\u001b[0m         \u001b[39mf\u001b[39m\u001b[39m'\u001b[39m\u001b[39mvia `pip install gym[accept-rom-license]`. Otherwise, you should try importing \u001b[39m\u001b[39m\"\u001b[39m\u001b[39m{\u001b[39;00m\u001b[39mself\u001b[39m\u001b[39m.\u001b[39m_game\u001b[39m}\u001b[39;00m\u001b[39m\"\u001b[39m\u001b[39m \u001b[39m\u001b[39m'\u001b[39m\n\u001b[0;32m    210\u001b[0m         \u001b[39mf\u001b[39m\u001b[39m'\u001b[39m\u001b[39mvia the command `ale-import-roms`. If you believe this is a mistake perhaps your copy of \u001b[39m\u001b[39m\"\u001b[39m\u001b[39m{\u001b[39;00m\u001b[39mself\u001b[39m\u001b[39m.\u001b[39m_game\u001b[39m}\u001b[39;00m\u001b[39m\"\u001b[39m\u001b[39m \u001b[39m\u001b[39m'\u001b[39m\n\u001b[0;32m    211\u001b[0m         \u001b[39m\"\u001b[39m\u001b[39mis unsupported. To check if this is the case try providing the environment variable \u001b[39m\u001b[39m\"\u001b[39m\n\u001b[0;32m    212\u001b[0m         \u001b[39m\"\u001b[39m\u001b[39m`PYTHONWARNINGS=default::ImportWarning:ale_py.roms`. For more information see: \u001b[39m\u001b[39m\"\u001b[39m\n\u001b[0;32m    213\u001b[0m         \u001b[39m\"\u001b[39m\u001b[39mhttps://github.com/mgbellemare/Arcade-Learning-Environment#rom-management\u001b[39m\u001b[39m\"\u001b[39m\n\u001b[0;32m    214\u001b[0m     )\n\u001b[0;32m    215\u001b[0m \u001b[39mself\u001b[39m\u001b[39m.\u001b[39male\u001b[39m.\u001b[39mloadROM(\u001b[39mgetattr\u001b[39m(roms, \u001b[39mself\u001b[39m\u001b[39m.\u001b[39m_game))\n\u001b[0;32m    217\u001b[0m \u001b[39mif\u001b[39;00m \u001b[39mself\u001b[39m\u001b[39m.\u001b[39m_game_mode \u001b[39mis\u001b[39;00m \u001b[39mnot\u001b[39;00m \u001b[39mNone\u001b[39;00m:\n",
      "\u001b[1;31mError\u001b[0m: We're Unable to find the game \"Breakout\". Note: Gym no longer distributes ROMs. If you own a license to use the necessary ROMs for research purposes you can download them via `pip install gym[accept-rom-license]`. Otherwise, you should try importing \"Breakout\" via the command `ale-import-roms`. If you believe this is a mistake perhaps your copy of \"Breakout\" is unsupported. To check if this is the case try providing the environment variable `PYTHONWARNINGS=default::ImportWarning:ale_py.roms`. For more information see: https://github.com/mgbellemare/Arcade-Learning-Environment#rom-management"
     ]
    }
   ],
   "source": [
    "seed = 42\n",
    "gamma = 0.99\n",
    "epsilon = 1.0\n",
    "epsilon_min = 0.1\n",
    "epsilon_max = 1.0\n",
    "epsilon_interval = (\n",
    "    epsilon_max - epsilon_min\n",
    ")\n",
    "batch_size = 32\n",
    "max_steps_per_episode = 10000\n",
    "\n",
    "env = make_atari(\"BreakoutNoFrameskip-v4\")\n",
    "env = wrap_deepmind(env, frame_stack=True, scale=True)\n",
    "env.seed(seed)"
   ]
  },
  {
   "cell_type": "code",
   "execution_count": null,
   "metadata": {},
   "outputs": [],
   "source": []
  }
 ],
 "metadata": {
  "kernelspec": {
   "display_name": "tfbaseenv",
   "language": "python",
   "name": "python3"
  },
  "language_info": {
   "codemirror_mode": {
    "name": "ipython",
    "version": 3
   },
   "file_extension": ".py",
   "mimetype": "text/x-python",
   "name": "python",
   "nbconvert_exporter": "python",
   "pygments_lexer": "ipython3",
   "version": "3.9.18"
  }
 },
 "nbformat": 4,
 "nbformat_minor": 2
}
